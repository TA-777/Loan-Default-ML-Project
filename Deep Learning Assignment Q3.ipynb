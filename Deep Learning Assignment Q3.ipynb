{
 "cells": [
  {
   "cell_type": "code",
   "execution_count": 93,
   "id": "1fdb21ff-8adb-44e6-9c5b-9c2e99b4ac7b",
   "metadata": {},
   "outputs": [],
   "source": [
    "#tensorflow only works under version 3.10 therefore changed the kernel \n"
   ]
  },
  {
   "cell_type": "code",
   "execution_count": 95,
   "id": "8ad18b30-de5f-4c03-a4a3-bce8b5128252",
   "metadata": {},
   "outputs": [],
   "source": [
    "#import packages\n",
    "import numpy as np\n",
    "import pandas as pd\n",
    "import sklearn\n",
    "from sklearn.preprocessing import MinMaxScaler\n",
    "from sklearn.linear_model import LogisticRegression\n",
    "from sklearn.model_selection import train_test_split\n"
   ]
  },
  {
   "cell_type": "code",
   "execution_count": 97,
   "id": "555fbca5-ba32-41be-afa8-1e9408203382",
   "metadata": {},
   "outputs": [
    {
     "data": {
      "text/html": [
       "<div>\n",
       "<style scoped>\n",
       "    .dataframe tbody tr th:only-of-type {\n",
       "        vertical-align: middle;\n",
       "    }\n",
       "\n",
       "    .dataframe tbody tr th {\n",
       "        vertical-align: top;\n",
       "    }\n",
       "\n",
       "    .dataframe thead th {\n",
       "        text-align: right;\n",
       "    }\n",
       "</style>\n",
       "<table border=\"1\" class=\"dataframe\">\n",
       "  <thead>\n",
       "    <tr style=\"text-align: right;\">\n",
       "      <th></th>\n",
       "      <th>LIMIT_BAL</th>\n",
       "      <th>SEX</th>\n",
       "      <th>EDUCATION</th>\n",
       "      <th>MARRIAGE</th>\n",
       "      <th>AGE</th>\n",
       "      <th>PAY_0</th>\n",
       "      <th>PAY_2</th>\n",
       "      <th>PAY_3</th>\n",
       "      <th>PAY_4</th>\n",
       "      <th>PAY_5</th>\n",
       "      <th>...</th>\n",
       "      <th>BILL_AMT4</th>\n",
       "      <th>BILL_AMT5</th>\n",
       "      <th>BILL_AMT6</th>\n",
       "      <th>PAY_AMT1</th>\n",
       "      <th>PAY_AMT2</th>\n",
       "      <th>PAY_AMT3</th>\n",
       "      <th>PAY_AMT4</th>\n",
       "      <th>PAY_AMT5</th>\n",
       "      <th>PAY_AMT6</th>\n",
       "      <th>default payment next month</th>\n",
       "    </tr>\n",
       "    <tr>\n",
       "      <th>ID</th>\n",
       "      <th></th>\n",
       "      <th></th>\n",
       "      <th></th>\n",
       "      <th></th>\n",
       "      <th></th>\n",
       "      <th></th>\n",
       "      <th></th>\n",
       "      <th></th>\n",
       "      <th></th>\n",
       "      <th></th>\n",
       "      <th></th>\n",
       "      <th></th>\n",
       "      <th></th>\n",
       "      <th></th>\n",
       "      <th></th>\n",
       "      <th></th>\n",
       "      <th></th>\n",
       "      <th></th>\n",
       "      <th></th>\n",
       "      <th></th>\n",
       "      <th></th>\n",
       "    </tr>\n",
       "  </thead>\n",
       "  <tbody>\n",
       "    <tr>\n",
       "      <th>1</th>\n",
       "      <td>20000</td>\n",
       "      <td>2</td>\n",
       "      <td>2</td>\n",
       "      <td>1</td>\n",
       "      <td>24</td>\n",
       "      <td>2</td>\n",
       "      <td>2</td>\n",
       "      <td>-1</td>\n",
       "      <td>-1</td>\n",
       "      <td>-2</td>\n",
       "      <td>...</td>\n",
       "      <td>0</td>\n",
       "      <td>0</td>\n",
       "      <td>0</td>\n",
       "      <td>0</td>\n",
       "      <td>689</td>\n",
       "      <td>0</td>\n",
       "      <td>0</td>\n",
       "      <td>0</td>\n",
       "      <td>0</td>\n",
       "      <td>1</td>\n",
       "    </tr>\n",
       "    <tr>\n",
       "      <th>2</th>\n",
       "      <td>120000</td>\n",
       "      <td>2</td>\n",
       "      <td>2</td>\n",
       "      <td>2</td>\n",
       "      <td>26</td>\n",
       "      <td>-1</td>\n",
       "      <td>2</td>\n",
       "      <td>0</td>\n",
       "      <td>0</td>\n",
       "      <td>0</td>\n",
       "      <td>...</td>\n",
       "      <td>3272</td>\n",
       "      <td>3455</td>\n",
       "      <td>3261</td>\n",
       "      <td>0</td>\n",
       "      <td>1000</td>\n",
       "      <td>1000</td>\n",
       "      <td>1000</td>\n",
       "      <td>0</td>\n",
       "      <td>2000</td>\n",
       "      <td>1</td>\n",
       "    </tr>\n",
       "    <tr>\n",
       "      <th>3</th>\n",
       "      <td>90000</td>\n",
       "      <td>2</td>\n",
       "      <td>2</td>\n",
       "      <td>2</td>\n",
       "      <td>34</td>\n",
       "      <td>0</td>\n",
       "      <td>0</td>\n",
       "      <td>0</td>\n",
       "      <td>0</td>\n",
       "      <td>0</td>\n",
       "      <td>...</td>\n",
       "      <td>14331</td>\n",
       "      <td>14948</td>\n",
       "      <td>15549</td>\n",
       "      <td>1518</td>\n",
       "      <td>1500</td>\n",
       "      <td>1000</td>\n",
       "      <td>1000</td>\n",
       "      <td>1000</td>\n",
       "      <td>5000</td>\n",
       "      <td>0</td>\n",
       "    </tr>\n",
       "    <tr>\n",
       "      <th>4</th>\n",
       "      <td>50000</td>\n",
       "      <td>2</td>\n",
       "      <td>2</td>\n",
       "      <td>1</td>\n",
       "      <td>37</td>\n",
       "      <td>0</td>\n",
       "      <td>0</td>\n",
       "      <td>0</td>\n",
       "      <td>0</td>\n",
       "      <td>0</td>\n",
       "      <td>...</td>\n",
       "      <td>28314</td>\n",
       "      <td>28959</td>\n",
       "      <td>29547</td>\n",
       "      <td>2000</td>\n",
       "      <td>2019</td>\n",
       "      <td>1200</td>\n",
       "      <td>1100</td>\n",
       "      <td>1069</td>\n",
       "      <td>1000</td>\n",
       "      <td>0</td>\n",
       "    </tr>\n",
       "    <tr>\n",
       "      <th>5</th>\n",
       "      <td>50000</td>\n",
       "      <td>1</td>\n",
       "      <td>2</td>\n",
       "      <td>1</td>\n",
       "      <td>57</td>\n",
       "      <td>-1</td>\n",
       "      <td>0</td>\n",
       "      <td>-1</td>\n",
       "      <td>0</td>\n",
       "      <td>0</td>\n",
       "      <td>...</td>\n",
       "      <td>20940</td>\n",
       "      <td>19146</td>\n",
       "      <td>19131</td>\n",
       "      <td>2000</td>\n",
       "      <td>36681</td>\n",
       "      <td>10000</td>\n",
       "      <td>9000</td>\n",
       "      <td>689</td>\n",
       "      <td>679</td>\n",
       "      <td>0</td>\n",
       "    </tr>\n",
       "  </tbody>\n",
       "</table>\n",
       "<p>5 rows × 24 columns</p>\n",
       "</div>"
      ],
      "text/plain": [
       "    LIMIT_BAL  SEX  EDUCATION  MARRIAGE  AGE  PAY_0  PAY_2  PAY_3  PAY_4  \\\n",
       "ID                                                                         \n",
       "1       20000    2          2         1   24      2      2     -1     -1   \n",
       "2      120000    2          2         2   26     -1      2      0      0   \n",
       "3       90000    2          2         2   34      0      0      0      0   \n",
       "4       50000    2          2         1   37      0      0      0      0   \n",
       "5       50000    1          2         1   57     -1      0     -1      0   \n",
       "\n",
       "    PAY_5  ...  BILL_AMT4  BILL_AMT5  BILL_AMT6  PAY_AMT1  PAY_AMT2  PAY_AMT3  \\\n",
       "ID         ...                                                                  \n",
       "1      -2  ...          0          0          0         0       689         0   \n",
       "2       0  ...       3272       3455       3261         0      1000      1000   \n",
       "3       0  ...      14331      14948      15549      1518      1500      1000   \n",
       "4       0  ...      28314      28959      29547      2000      2019      1200   \n",
       "5       0  ...      20940      19146      19131      2000     36681     10000   \n",
       "\n",
       "    PAY_AMT4  PAY_AMT5  PAY_AMT6  default payment next month  \n",
       "ID                                                            \n",
       "1          0         0         0                           1  \n",
       "2       1000         0      2000                           1  \n",
       "3       1000      1000      5000                           0  \n",
       "4       1100      1069      1000                           0  \n",
       "5       9000       689       679                           0  \n",
       "\n",
       "[5 rows x 24 columns]"
      ]
     },
     "execution_count": 97,
     "metadata": {},
     "output_type": "execute_result"
    }
   ],
   "source": [
    "#read in xls file\n",
    "df = pd.read_excel('default of credit card clients.xls',\n",
    "                   skiprows=1,\n",
    "                   index_col=0)\n",
    "df.head()"
   ]
  },
  {
   "cell_type": "code",
   "execution_count": 99,
   "id": "68664524-cbe7-409b-a0f7-49b8a608fae8",
   "metadata": {},
   "outputs": [],
   "source": [
    "features = df.drop('default payment next month', axis=1)\n",
    "targets = df['default payment next month']"
   ]
  },
  {
   "cell_type": "code",
   "execution_count": 101,
   "id": "5d64ff95-730d-4af6-a8a0-15a9fb07e4c8",
   "metadata": {},
   "outputs": [],
   "source": [
    "scaler = MinMaxScaler()\n",
    "train_features = scaler.fit_transform(train_features)\n",
    "test_features = scaler.transform(test_features)\n",
    "#DO NOT SCALE THE TARGETS"
   ]
  },
  {
   "cell_type": "code",
   "execution_count": 103,
   "id": "799c33df-8c86-4de8-b04a-3f37e36efa5b",
   "metadata": {},
   "outputs": [],
   "source": [
    "train_features, test_features, train_targets, test_targets = train_test_split(train_features, train_targets, test_size=0.2, random_state=42)"
   ]
  },
  {
   "cell_type": "code",
   "execution_count": 105,
   "id": "d84bfa0a-8b00-44d6-b65c-5335f6dd5ebc",
   "metadata": {},
   "outputs": [],
   "source": [
    "#in order to fit the data to the neural network we need to convert to numpy arrays\n",
    "train_features = np.array(train_features)\n",
    "train_targets = np.array(train_targets)\n"
   ]
  },
  {
   "cell_type": "code",
   "execution_count": 53,
   "id": "78286808-b3fb-4b5c-b22e-4f5291817b0f",
   "metadata": {},
   "outputs": [
    {
     "data": {
      "text/plain": [
       "(24000, 23)"
      ]
     },
     "execution_count": 53,
     "metadata": {},
     "output_type": "execute_result"
    }
   ],
   "source": [
    "train_features.shape"
   ]
  },
  {
   "cell_type": "code",
   "execution_count": 55,
   "id": "3c20d37a-61fc-4e12-a240-2eb1f48aa104",
   "metadata": {},
   "outputs": [],
   "source": [
    "#import the necessary packages for neural network training\n",
    "import tensorflow as tf\n",
    "from tensorflow import keras\n",
    "from tensorflow.keras.models import Sequential\n",
    "from tensorflow.keras.layers import Activation, Dense, Dropout\n",
    "from tensorflow.keras.optimizers import Adam\n"
   ]
  },
  {
   "cell_type": "code",
   "execution_count": 57,
   "id": "64a912ed-dedc-45a5-989f-386279032892",
   "metadata": {},
   "outputs": [
    {
     "name": "stderr",
     "output_type": "stream",
     "text": [
      "C:\\Users\\Taya\\anaconda7\\envs\\tf_env\\lib\\site-packages\\keras\\src\\layers\\core\\dense.py:87: UserWarning: Do not pass an `input_shape`/`input_dim` argument to a layer. When using Sequential models, prefer using an `Input(shape)` object as the first layer in the model instead.\n",
      "  super().__init__(activity_regularizer=activity_regularizer, **kwargs)\n"
     ]
    }
   ],
   "source": [
    "model = Sequential([\n",
    "    Dense(units=10, input_shape=(23,), activation='relu'),\n",
    "    Dropout(0.2), #dropout layer to aoid overfitting\n",
    "    Dense(units=1, activation='sigmoid') #the two units correspond to the two possible output classes forcredit card default\n",
    "])"
   ]
  },
  {
   "cell_type": "code",
   "execution_count": 59,
   "id": "989ab3d7-4642-474b-b46c-eba52270432e",
   "metadata": {},
   "outputs": [
    {
     "data": {
      "text/html": [
       "<pre style=\"white-space:pre;overflow-x:auto;line-height:normal;font-family:Menlo,'DejaVu Sans Mono',consolas,'Courier New',monospace\"><span style=\"font-weight: bold\">Model: \"sequential_3\"</span>\n",
       "</pre>\n"
      ],
      "text/plain": [
       "\u001b[1mModel: \"sequential_3\"\u001b[0m\n"
      ]
     },
     "metadata": {},
     "output_type": "display_data"
    },
    {
     "data": {
      "text/html": [
       "<pre style=\"white-space:pre;overflow-x:auto;line-height:normal;font-family:Menlo,'DejaVu Sans Mono',consolas,'Courier New',monospace\">┏━━━━━━━━━━━━━━━━━━━━━━━━━━━━━━━━━━━━━━┳━━━━━━━━━━━━━━━━━━━━━━━━━━━━━┳━━━━━━━━━━━━━━━━━┓\n",
       "┃<span style=\"font-weight: bold\"> Layer (type)                         </span>┃<span style=\"font-weight: bold\"> Output Shape                </span>┃<span style=\"font-weight: bold\">         Param # </span>┃\n",
       "┡━━━━━━━━━━━━━━━━━━━━━━━━━━━━━━━━━━━━━━╇━━━━━━━━━━━━━━━━━━━━━━━━━━━━━╇━━━━━━━━━━━━━━━━━┩\n",
       "│ dense_6 (<span style=\"color: #0087ff; text-decoration-color: #0087ff\">Dense</span>)                      │ (<span style=\"color: #00d7ff; text-decoration-color: #00d7ff\">None</span>, <span style=\"color: #00af00; text-decoration-color: #00af00\">10</span>)                  │             <span style=\"color: #00af00; text-decoration-color: #00af00\">240</span> │\n",
       "├──────────────────────────────────────┼─────────────────────────────┼─────────────────┤\n",
       "│ dropout_2 (<span style=\"color: #0087ff; text-decoration-color: #0087ff\">Dropout</span>)                  │ (<span style=\"color: #00d7ff; text-decoration-color: #00d7ff\">None</span>, <span style=\"color: #00af00; text-decoration-color: #00af00\">10</span>)                  │               <span style=\"color: #00af00; text-decoration-color: #00af00\">0</span> │\n",
       "├──────────────────────────────────────┼─────────────────────────────┼─────────────────┤\n",
       "│ dense_7 (<span style=\"color: #0087ff; text-decoration-color: #0087ff\">Dense</span>)                      │ (<span style=\"color: #00d7ff; text-decoration-color: #00d7ff\">None</span>, <span style=\"color: #00af00; text-decoration-color: #00af00\">1</span>)                   │              <span style=\"color: #00af00; text-decoration-color: #00af00\">11</span> │\n",
       "└──────────────────────────────────────┴─────────────────────────────┴─────────────────┘\n",
       "</pre>\n"
      ],
      "text/plain": [
       "┏━━━━━━━━━━━━━━━━━━━━━━━━━━━━━━━━━━━━━━┳━━━━━━━━━━━━━━━━━━━━━━━━━━━━━┳━━━━━━━━━━━━━━━━━┓\n",
       "┃\u001b[1m \u001b[0m\u001b[1mLayer (type)                        \u001b[0m\u001b[1m \u001b[0m┃\u001b[1m \u001b[0m\u001b[1mOutput Shape               \u001b[0m\u001b[1m \u001b[0m┃\u001b[1m \u001b[0m\u001b[1m        Param #\u001b[0m\u001b[1m \u001b[0m┃\n",
       "┡━━━━━━━━━━━━━━━━━━━━━━━━━━━━━━━━━━━━━━╇━━━━━━━━━━━━━━━━━━━━━━━━━━━━━╇━━━━━━━━━━━━━━━━━┩\n",
       "│ dense_6 (\u001b[38;5;33mDense\u001b[0m)                      │ (\u001b[38;5;45mNone\u001b[0m, \u001b[38;5;34m10\u001b[0m)                  │             \u001b[38;5;34m240\u001b[0m │\n",
       "├──────────────────────────────────────┼─────────────────────────────┼─────────────────┤\n",
       "│ dropout_2 (\u001b[38;5;33mDropout\u001b[0m)                  │ (\u001b[38;5;45mNone\u001b[0m, \u001b[38;5;34m10\u001b[0m)                  │               \u001b[38;5;34m0\u001b[0m │\n",
       "├──────────────────────────────────────┼─────────────────────────────┼─────────────────┤\n",
       "│ dense_7 (\u001b[38;5;33mDense\u001b[0m)                      │ (\u001b[38;5;45mNone\u001b[0m, \u001b[38;5;34m1\u001b[0m)                   │              \u001b[38;5;34m11\u001b[0m │\n",
       "└──────────────────────────────────────┴─────────────────────────────┴─────────────────┘\n"
      ]
     },
     "metadata": {},
     "output_type": "display_data"
    },
    {
     "data": {
      "text/html": [
       "<pre style=\"white-space:pre;overflow-x:auto;line-height:normal;font-family:Menlo,'DejaVu Sans Mono',consolas,'Courier New',monospace\"><span style=\"font-weight: bold\"> Total params: </span><span style=\"color: #00af00; text-decoration-color: #00af00\">251</span> (1004.00 B)\n",
       "</pre>\n"
      ],
      "text/plain": [
       "\u001b[1m Total params: \u001b[0m\u001b[38;5;34m251\u001b[0m (1004.00 B)\n"
      ]
     },
     "metadata": {},
     "output_type": "display_data"
    },
    {
     "data": {
      "text/html": [
       "<pre style=\"white-space:pre;overflow-x:auto;line-height:normal;font-family:Menlo,'DejaVu Sans Mono',consolas,'Courier New',monospace\"><span style=\"font-weight: bold\"> Trainable params: </span><span style=\"color: #00af00; text-decoration-color: #00af00\">251</span> (1004.00 B)\n",
       "</pre>\n"
      ],
      "text/plain": [
       "\u001b[1m Trainable params: \u001b[0m\u001b[38;5;34m251\u001b[0m (1004.00 B)\n"
      ]
     },
     "metadata": {},
     "output_type": "display_data"
    },
    {
     "data": {
      "text/html": [
       "<pre style=\"white-space:pre;overflow-x:auto;line-height:normal;font-family:Menlo,'DejaVu Sans Mono',consolas,'Courier New',monospace\"><span style=\"font-weight: bold\"> Non-trainable params: </span><span style=\"color: #00af00; text-decoration-color: #00af00\">0</span> (0.00 B)\n",
       "</pre>\n"
      ],
      "text/plain": [
       "\u001b[1m Non-trainable params: \u001b[0m\u001b[38;5;34m0\u001b[0m (0.00 B)\n"
      ]
     },
     "metadata": {},
     "output_type": "display_data"
    }
   ],
   "source": [
    "model.summary()"
   ]
  },
  {
   "cell_type": "code",
   "execution_count": 61,
   "id": "5a0d82c4-8a60-4b9a-ba32-0a9807c8f8b2",
   "metadata": {},
   "outputs": [],
   "source": [
    "model.compile(optimizer='adam', \n",
    "              loss='binary_crossentropy',\n",
    "              metrics=['accuracy']\n",
    ")"
   ]
  },
  {
   "cell_type": "code",
   "execution_count": 83,
   "id": "2cdc7530-dc38-4480-9960-911a1fa53ff7",
   "metadata": {},
   "outputs": [
    {
     "name": "stdout",
     "output_type": "stream",
     "text": [
      "Epoch 1/50\n",
      "600/600 - 2s - 3ms/step - accuracy: 0.8152 - loss: 0.4433\n",
      "Epoch 2/50\n",
      "600/600 - 1s - 2ms/step - accuracy: 0.8154 - loss: 0.4429\n",
      "Epoch 3/50\n",
      "600/600 - 1s - 2ms/step - accuracy: 0.8159 - loss: 0.4416\n",
      "Epoch 4/50\n",
      "600/600 - 1s - 2ms/step - accuracy: 0.8165 - loss: 0.4438\n",
      "Epoch 5/50\n",
      "600/600 - 1s - 2ms/step - accuracy: 0.8159 - loss: 0.4437\n",
      "Epoch 6/50\n",
      "600/600 - 1s - 2ms/step - accuracy: 0.8135 - loss: 0.4459\n",
      "Epoch 7/50\n",
      "600/600 - 1s - 2ms/step - accuracy: 0.8141 - loss: 0.4447\n",
      "Epoch 8/50\n",
      "600/600 - 1s - 2ms/step - accuracy: 0.8166 - loss: 0.4421\n",
      "Epoch 9/50\n",
      "600/600 - 1s - 2ms/step - accuracy: 0.8156 - loss: 0.4433\n",
      "Epoch 10/50\n",
      "600/600 - 1s - 2ms/step - accuracy: 0.8160 - loss: 0.4427\n",
      "Epoch 11/50\n",
      "600/600 - 1s - 2ms/step - accuracy: 0.8160 - loss: 0.4440\n",
      "Epoch 12/50\n",
      "600/600 - 1s - 2ms/step - accuracy: 0.8164 - loss: 0.4441\n",
      "Epoch 13/50\n",
      "600/600 - 1s - 2ms/step - accuracy: 0.8171 - loss: 0.4434\n",
      "Epoch 14/50\n",
      "600/600 - 1s - 2ms/step - accuracy: 0.8158 - loss: 0.4432\n",
      "Epoch 15/50\n",
      "600/600 - 1s - 2ms/step - accuracy: 0.8149 - loss: 0.4438\n",
      "Epoch 16/50\n",
      "600/600 - 1s - 2ms/step - accuracy: 0.8131 - loss: 0.4464\n",
      "Epoch 17/50\n",
      "600/600 - 1s - 2ms/step - accuracy: 0.8144 - loss: 0.4437\n",
      "Epoch 18/50\n",
      "600/600 - 2s - 3ms/step - accuracy: 0.8151 - loss: 0.4448\n",
      "Epoch 19/50\n",
      "600/600 - 2s - 4ms/step - accuracy: 0.8156 - loss: 0.4441\n",
      "Epoch 20/50\n",
      "600/600 - 1s - 2ms/step - accuracy: 0.8161 - loss: 0.4442\n",
      "Epoch 21/50\n",
      "600/600 - 1s - 2ms/step - accuracy: 0.8158 - loss: 0.4430\n",
      "Epoch 22/50\n",
      "600/600 - 1s - 2ms/step - accuracy: 0.8141 - loss: 0.4444\n",
      "Epoch 23/50\n",
      "600/600 - 1s - 2ms/step - accuracy: 0.8155 - loss: 0.4444\n",
      "Epoch 24/50\n",
      "600/600 - 2s - 3ms/step - accuracy: 0.8148 - loss: 0.4433\n",
      "Epoch 25/50\n",
      "600/600 - 2s - 4ms/step - accuracy: 0.8153 - loss: 0.4430\n",
      "Epoch 26/50\n",
      "600/600 - 1s - 2ms/step - accuracy: 0.8162 - loss: 0.4422\n",
      "Epoch 27/50\n",
      "600/600 - 1s - 2ms/step - accuracy: 0.8149 - loss: 0.4434\n",
      "Epoch 28/50\n",
      "600/600 - 1s - 2ms/step - accuracy: 0.8148 - loss: 0.4435\n",
      "Epoch 29/50\n",
      "600/600 - 2s - 3ms/step - accuracy: 0.8147 - loss: 0.4446\n",
      "Epoch 30/50\n",
      "600/600 - 1s - 2ms/step - accuracy: 0.8140 - loss: 0.4451\n",
      "Epoch 31/50\n",
      "600/600 - 2s - 3ms/step - accuracy: 0.8172 - loss: 0.4424\n",
      "Epoch 32/50\n",
      "600/600 - 1s - 2ms/step - accuracy: 0.8146 - loss: 0.4410\n",
      "Epoch 33/50\n",
      "600/600 - 1s - 2ms/step - accuracy: 0.8152 - loss: 0.4431\n",
      "Epoch 34/50\n",
      "600/600 - 2s - 3ms/step - accuracy: 0.8143 - loss: 0.4436\n",
      "Epoch 35/50\n",
      "600/600 - 3s - 6ms/step - accuracy: 0.8156 - loss: 0.4437\n",
      "Epoch 36/50\n",
      "600/600 - 3s - 5ms/step - accuracy: 0.8166 - loss: 0.4407\n",
      "Epoch 37/50\n",
      "600/600 - 2s - 4ms/step - accuracy: 0.8174 - loss: 0.4438\n",
      "Epoch 38/50\n",
      "600/600 - 2s - 3ms/step - accuracy: 0.8159 - loss: 0.4429\n",
      "Epoch 39/50\n",
      "600/600 - 1s - 2ms/step - accuracy: 0.8153 - loss: 0.4441\n",
      "Epoch 40/50\n",
      "600/600 - 2s - 3ms/step - accuracy: 0.8129 - loss: 0.4442\n",
      "Epoch 41/50\n",
      "600/600 - 1s - 2ms/step - accuracy: 0.8172 - loss: 0.4431\n",
      "Epoch 42/50\n",
      "600/600 - 1s - 2ms/step - accuracy: 0.8168 - loss: 0.4436\n",
      "Epoch 43/50\n",
      "600/600 - 1s - 2ms/step - accuracy: 0.8147 - loss: 0.4431\n",
      "Epoch 44/50\n",
      "600/600 - 1s - 2ms/step - accuracy: 0.8145 - loss: 0.4436\n",
      "Epoch 45/50\n",
      "600/600 - 1s - 2ms/step - accuracy: 0.8157 - loss: 0.4422\n",
      "Epoch 46/50\n",
      "600/600 - 1s - 2ms/step - accuracy: 0.8143 - loss: 0.4429\n",
      "Epoch 47/50\n",
      "600/600 - 3s - 4ms/step - accuracy: 0.8166 - loss: 0.4422\n",
      "Epoch 48/50\n",
      "600/600 - 1s - 2ms/step - accuracy: 0.8148 - loss: 0.4435\n",
      "Epoch 49/50\n",
      "600/600 - 2s - 3ms/step - accuracy: 0.8165 - loss: 0.4423\n",
      "Epoch 50/50\n",
      "600/600 - 2s - 3ms/step - accuracy: 0.8159 - loss: 0.4416\n"
     ]
    },
    {
     "data": {
      "text/plain": [
       "<keras.src.callbacks.history.History at 0x1b7fb12f6d0>"
      ]
     },
     "execution_count": 83,
     "metadata": {},
     "output_type": "execute_result"
    }
   ],
   "source": [
    "#mdoel training\n",
    "model.fit(x=train_features, y=train_targets, batch_size=32, epochs=50, verbose=2)"
   ]
  },
  {
   "cell_type": "code",
   "execution_count": 87,
   "id": "5bca96b9-8706-4f99-876e-940c151b912b",
   "metadata": {},
   "outputs": [
    {
     "name": "stdout",
     "output_type": "stream",
     "text": [
      "\u001b[1m150/150\u001b[0m \u001b[32m━━━━━━━━━━━━━━━━━━━━\u001b[0m\u001b[37m\u001b[0m \u001b[1m0s\u001b[0m 2ms/step - accuracy: 0.8087 - loss: 0.4553\n"
     ]
    },
    {
     "data": {
      "text/plain": [
       "[0.44373294711112976, 0.8141666650772095]"
      ]
     },
     "execution_count": 87,
     "metadata": {},
     "output_type": "execute_result"
    }
   ],
   "source": [
    "#use model on test data\n",
    "model.evaluate(test_features, test_targets)"
   ]
  },
  {
   "cell_type": "code",
   "execution_count": null,
   "id": "2db688d4-ca85-4f67-8e73-815aac27bf9e",
   "metadata": {},
   "outputs": [],
   "source": []
  }
 ],
 "metadata": {
  "kernelspec": {
   "display_name": "Python 3.10 (tf_env)",
   "language": "python",
   "name": "tf_env"
  },
  "language_info": {
   "codemirror_mode": {
    "name": "ipython",
    "version": 3
   },
   "file_extension": ".py",
   "mimetype": "text/x-python",
   "name": "python",
   "nbconvert_exporter": "python",
   "pygments_lexer": "ipython3",
   "version": "3.10.16"
  }
 },
 "nbformat": 4,
 "nbformat_minor": 5
}
